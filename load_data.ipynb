{
 "cells": [
  {
   "cell_type": "markdown",
   "metadata": {},
   "source": [
    "## Usage\n",
    "This project provides the three ways to update CPI data, such as append load, trancate and load, and incremental load.\n",
    "- \"Get the Latest Data\" enables users to get the latest CPI data by inputing any dates.\n",
    "- \"Load Data\" shows the three ways to load the data up to the date which users input.\n",
    "- \"Compare Performance\" illustrates the difference of processing speed among these three ways.\n",
    "\n",
    "These services will make users decide which way to choose for their development."
   ]
  },
  {
   "cell_type": "markdown",
   "metadata": {},
   "source": [
    "## General Preparation\n",
    "- Import necessary libraries.\n",
    "- Define function of loading CPI data into dataframe.\n",
    "- Define function of getting the latest data."
   ]
  },
  {
   "cell_type": "code",
   "execution_count": 18,
   "metadata": {},
   "outputs": [],
   "source": [
    "import pandas as pd\n",
    "import duckdb\n",
    "from load_functions import load_data, get_latest_data"
   ]
  },
  {
   "cell_type": "markdown",
   "metadata": {},
   "source": [
    "## Get the Latest Data\n",
    "Write any pull date from 1998-11-01 to 2025-2-28 and run the code to see the result of the latest five data.\n",
    "\n",
    "This project manually vefities that the following validation works.\n",
    "- If users select the date before 1998-11-01, pull date is set to be 1998-11-01.\n",
    "- If users select the date after 2025-2-28, pull date is set to be 2025-2-28.\n"
   ]
  },
  {
   "cell_type": "code",
   "execution_count": 19,
   "metadata": {},
   "outputs": [
    {
     "data": {
      "text/html": [
       "<div>\n",
       "<style scoped>\n",
       "    .dataframe tbody tr th:only-of-type {\n",
       "        vertical-align: middle;\n",
       "    }\n",
       "\n",
       "    .dataframe tbody tr th {\n",
       "        vertical-align: top;\n",
       "    }\n",
       "\n",
       "    .dataframe thead th {\n",
       "        text-align: right;\n",
       "    }\n",
       "</style>\n",
       "<table border=\"1\" class=\"dataframe\">\n",
       "  <thead>\n",
       "    <tr style=\"text-align: right;\">\n",
       "      <th></th>\n",
       "      <th>DATE</th>\n",
       "      <th>CPI</th>\n",
       "    </tr>\n",
       "  </thead>\n",
       "  <tbody>\n",
       "    <tr>\n",
       "      <th>932</th>\n",
       "      <td>2024:09</td>\n",
       "      <td>314.686</td>\n",
       "    </tr>\n",
       "    <tr>\n",
       "      <th>933</th>\n",
       "      <td>2024:10</td>\n",
       "      <td>315.454</td>\n",
       "    </tr>\n",
       "    <tr>\n",
       "      <th>934</th>\n",
       "      <td>2024:11</td>\n",
       "      <td>316.441</td>\n",
       "    </tr>\n",
       "    <tr>\n",
       "      <th>935</th>\n",
       "      <td>2024:12</td>\n",
       "      <td>NaN</td>\n",
       "    </tr>\n",
       "    <tr>\n",
       "      <th>936</th>\n",
       "      <td>2025:01</td>\n",
       "      <td>NaN</td>\n",
       "    </tr>\n",
       "  </tbody>\n",
       "</table>\n",
       "</div>"
      ],
      "text/plain": [
       "        DATE      CPI\n",
       "932  2024:09  314.686\n",
       "933  2024:10  315.454\n",
       "934  2024:11  316.441\n",
       "935  2024:12      NaN\n",
       "936  2025:01      NaN"
      ]
     },
     "execution_count": 19,
     "metadata": {},
     "output_type": "execute_result"
    }
   ],
   "source": [
    "import datetime\n",
    "\n",
    "url = 'https://www.philadelphiafed.org/-/media/FRBP/Assets/Surveys-And-Data/real-time-data/data-files/xlsx/pcpiMvMd.xlsx?sc_lang=en&hash=E41A743DC6423F950B10C3DE7A4F674D'\n",
    "pull_date = '2024-12-01'\n",
    "\n",
    "pull_date = datetime.datetime.strptime(pull_date, '%Y-%m-%d').date()\n",
    "\n",
    "min_date = datetime.date(1998, 11, 1)\n",
    "max_date = datetime.date(2025, 2, 28)\n",
    "\n",
    "pull_date = min(max(pull_date, min_date), max_date)\n",
    "\n",
    "latest_data = get_latest_data(load_data(url), str(pull_date))\n",
    "latest_data.tail()\n"
   ]
  },
  {
   "cell_type": "markdown",
   "metadata": {},
   "source": [
    "## Load Data"
   ]
  },
  {
   "cell_type": "markdown",
   "metadata": {},
   "source": [
    "- Users initially have to set a pull date.\n",
    "- Runnign each way of loading date shows the latest five data which updated by each way."
   ]
  },
  {
   "cell_type": "code",
   "execution_count": 20,
   "metadata": {},
   "outputs": [],
   "source": [
    "user_pull_date = '1998-12-01'"
   ]
  },
  {
   "cell_type": "markdown",
   "metadata": {},
   "source": [
    "1. Append Load"
   ]
  },
  {
   "cell_type": "code",
   "execution_count": 21,
   "metadata": {},
   "outputs": [
    {
     "name": "stderr",
     "output_type": "stream",
     "text": [
      "c:\\Users\\oiwah\\OneDrive\\デスクトップ\\2025_Spring_Python\\lab4\\arshiya-hiroyuki-api\\load_functions.py:27: UserWarning: pandas only supports SQLAlchemy connectable (engine/connection) or database string URI or sqlite3 DBAPI2 connection. Other DBAPI2 objects are not tested. Please consider using SQLAlchemy.\n",
      "  latest_data.to_sql('cpi_table', con, if_exists='append', index=False)\n"
     ]
    },
    {
     "name": "stdout",
     "output_type": "stream",
     "text": [
      "      DATE         CPI\n",
      "0  1998:11  164.300003\n",
      "1  1998:10  164.000000\n",
      "2  1998:09  163.600006\n",
      "3  1998:08  163.600006\n",
      "4  1998:07  163.300003\n"
     ]
    }
   ],
   "source": [
    "from load_functions import update_append\n",
    "\n",
    "con_append = duckdb.connect('cpi_append.duckdb')\n",
    "con_append.execute('DROP TABLE IF EXISTS cpi_table')\n",
    "con_append.execute(\"\"\"\n",
    "    CREATE TABLE cpi_table (\n",
    "        DATE STRING,\n",
    "        CPI FLOAT\n",
    "    )\n",
    "\"\"\")\n",
    "\n",
    "update_append(user_pull_date, url, con_append)\n",
    "updated_records = con_append.execute('SELECT * FROM cpi_table ORDER BY DATE DESC LIMIT 5').fetchdf()\n",
    "print(updated_records)\n",
    "\n",
    "con_append.close()"
   ]
  },
  {
   "cell_type": "markdown",
   "metadata": {},
   "source": [
    "2. Truncate and Load"
   ]
  },
  {
   "cell_type": "code",
   "execution_count": 22,
   "metadata": {},
   "outputs": [
    {
     "name": "stderr",
     "output_type": "stream",
     "text": [
      "c:\\Users\\oiwah\\OneDrive\\デスクトップ\\2025_Spring_Python\\lab4\\arshiya-hiroyuki-api\\load_functions.py:34: UserWarning: pandas only supports SQLAlchemy connectable (engine/connection) or database string URI or sqlite3 DBAPI2 connection. Other DBAPI2 objects are not tested. Please consider using SQLAlchemy.\n",
      "  latest_data.to_sql('cpi_table', con, if_exists='append', index=False)\n"
     ]
    },
    {
     "name": "stdout",
     "output_type": "stream",
     "text": [
      "      DATE         CPI\n",
      "0  1998:11  164.300003\n",
      "1  1998:10  164.000000\n",
      "2  1998:09  163.600006\n",
      "3  1998:08  163.600006\n",
      "4  1998:07  163.300003\n"
     ]
    }
   ],
   "source": [
    "from load_functions import update_truncate\n",
    "\n",
    "con_truncate = duckdb.connect('cpi_truncate.duckdb')\n",
    "con_truncate.execute('DROP TABLE IF EXISTS cpi_table')\n",
    "con_truncate.execute(\"\"\"\n",
    "    CREATE TABLE IF NOT EXISTS cpi_table (\n",
    "        DATE STRING,\n",
    "        CPI FLOAT\n",
    "    )\n",
    "\"\"\")\n",
    "\n",
    "update_truncate(user_pull_date, url, con_truncate)\n",
    "updated_records = con_truncate.execute(\"SELECT * FROM cpi_table ORDER BY DATE DESC LIMIT 5\").fetchdf()\n",
    "print(updated_records)\n",
    "\n",
    "con_truncate.close()"
   ]
  },
  {
   "cell_type": "markdown",
   "metadata": {},
   "source": [
    "3. Incremental Load"
   ]
  },
  {
   "cell_type": "code",
   "execution_count": 23,
   "metadata": {},
   "outputs": [
    {
     "name": "stderr",
     "output_type": "stream",
     "text": [
      "c:\\Users\\oiwah\\OneDrive\\デスクトップ\\2025_Spring_Python\\lab4\\arshiya-hiroyuki-api\\load_functions.py:56: UserWarning: pandas only supports SQLAlchemy connectable (engine/connection) or database string URI or sqlite3 DBAPI2 connection. Other DBAPI2 objects are not tested. Please consider using SQLAlchemy.\n",
      "  latest_data.to_sql('cpi_table', con, if_exists='append', index=False)\n"
     ]
    },
    {
     "name": "stdout",
     "output_type": "stream",
     "text": [
      "      DATE         CPI\n",
      "0  1998:11  164.300003\n",
      "1  1998:10  164.000000\n",
      "2  1998:09  163.600006\n",
      "3  1998:08  163.600006\n",
      "4  1998:07  163.300003\n"
     ]
    }
   ],
   "source": [
    "from load_functions import update_incremental\n",
    "\n",
    "con_incremental = duckdb.connect('cpi_incremental.duckdb')\n",
    "con_incremental.execute('DROP TABLE IF EXISTS cpi_table')\n",
    "con_incremental.execute(\"\"\"\n",
    "    CREATE TABLE IF NOT EXISTS cpi_table (\n",
    "        DATE STRING,\n",
    "        CPI FLOAT\n",
    "    )\n",
    "\"\"\")\n",
    "\n",
    "update_incremental(user_pull_date, url, con_incremental)\n",
    "updated_records = con_incremental.execute(\"SELECT * FROM cpi_table ORDER BY DATE DESC LIMIT 5\").fetchdf()\n",
    "print(updated_records)\n",
    "\n",
    "con_incremental.close()"
   ]
  },
  {
   "cell_type": "markdown",
   "metadata": {},
   "source": [
    "## Compare Performance"
   ]
  },
  {
   "cell_type": "markdown",
   "metadata": {},
   "source": [
    "- Users initially have to set start and end date of loading data.\n",
    "- Runnign each way of loading date shows processing times by each way."
   ]
  },
  {
   "cell_type": "code",
   "execution_count": 30,
   "metadata": {},
   "outputs": [],
   "source": [
    "from load_functions import measure_time\n",
    "\n",
    "start_date = '2024-12-01'\n",
    "end_date = '2025-02-01'\n",
    "date_range = pd.date_range(start=start_date, end=end_date, freq='D')"
   ]
  },
  {
   "cell_type": "markdown",
   "metadata": {},
   "source": [
    "1. Check the performance of Append Load."
   ]
  },
  {
   "cell_type": "code",
   "execution_count": 31,
   "metadata": {},
   "outputs": [
    {
     "name": "stderr",
     "output_type": "stream",
     "text": [
      "c:\\Users\\oiwah\\OneDrive\\デスクトップ\\2025_Spring_Python\\lab4\\arshiya-hiroyuki-api\\load_functions.py:27: UserWarning: pandas only supports SQLAlchemy connectable (engine/connection) or database string URI or sqlite3 DBAPI2 connection. Other DBAPI2 objects are not tested. Please consider using SQLAlchemy.\n",
      "  latest_data.to_sql('cpi_table', con, if_exists='append', index=False)\n",
      "c:\\Users\\oiwah\\OneDrive\\デスクトップ\\2025_Spring_Python\\lab4\\arshiya-hiroyuki-api\\load_functions.py:27: UserWarning: pandas only supports SQLAlchemy connectable (engine/connection) or database string URI or sqlite3 DBAPI2 connection. Other DBAPI2 objects are not tested. Please consider using SQLAlchemy.\n",
      "  latest_data.to_sql('cpi_table', con, if_exists='append', index=False)\n"
     ]
    },
    {
     "name": "stdout",
     "output_type": "stream",
     "text": [
      "Total Execution Time of Append: 211.37 seconds\n"
     ]
    },
    {
     "name": "stderr",
     "output_type": "stream",
     "text": [
      "c:\\Users\\oiwah\\OneDrive\\デスクトップ\\2025_Spring_Python\\lab4\\arshiya-hiroyuki-api\\load_functions.py:27: UserWarning: pandas only supports SQLAlchemy connectable (engine/connection) or database string URI or sqlite3 DBAPI2 connection. Other DBAPI2 objects are not tested. Please consider using SQLAlchemy.\n",
      "  latest_data.to_sql('cpi_table', con, if_exists='append', index=False)\n"
     ]
    }
   ],
   "source": [
    "con_append = duckdb.connect('cpi_append.duckdb')\n",
    "con_append.execute('DROP TABLE IF EXISTS cpi_table')\n",
    "con_append.execute(\"\"\"\n",
    "    CREATE TABLE cpi_table (\n",
    "        DATE STRING,\n",
    "        CPI FLOAT\n",
    "    )\n",
    "\"\"\")\n",
    "\n",
    "print(f'Total Execution Time of Append: {measure_time(update_append, date_range, url, con_append):.2f} seconds')\n",
    "\n",
    "con_append.close()"
   ]
  },
  {
   "cell_type": "markdown",
   "metadata": {},
   "source": [
    "2. Check the performance of Truncate and Load."
   ]
  },
  {
   "cell_type": "code",
   "execution_count": 32,
   "metadata": {},
   "outputs": [
    {
     "name": "stderr",
     "output_type": "stream",
     "text": [
      "c:\\Users\\oiwah\\OneDrive\\デスクトップ\\2025_Spring_Python\\lab4\\arshiya-hiroyuki-api\\load_functions.py:34: UserWarning: pandas only supports SQLAlchemy connectable (engine/connection) or database string URI or sqlite3 DBAPI2 connection. Other DBAPI2 objects are not tested. Please consider using SQLAlchemy.\n",
      "  latest_data.to_sql('cpi_table', con, if_exists='append', index=False)\n",
      "c:\\Users\\oiwah\\OneDrive\\デスクトップ\\2025_Spring_Python\\lab4\\arshiya-hiroyuki-api\\load_functions.py:34: UserWarning: pandas only supports SQLAlchemy connectable (engine/connection) or database string URI or sqlite3 DBAPI2 connection. Other DBAPI2 objects are not tested. Please consider using SQLAlchemy.\n",
      "  latest_data.to_sql('cpi_table', con, if_exists='append', index=False)\n",
      "c:\\Users\\oiwah\\OneDrive\\デスクトップ\\2025_Spring_Python\\lab4\\arshiya-hiroyuki-api\\load_functions.py:34: UserWarning: pandas only supports SQLAlchemy connectable (engine/connection) or database string URI or sqlite3 DBAPI2 connection. Other DBAPI2 objects are not tested. Please consider using SQLAlchemy.\n",
      "  latest_data.to_sql('cpi_table', con, if_exists='append', index=False)\n",
      "c:\\Users\\oiwah\\OneDrive\\デスクトップ\\2025_Spring_Python\\lab4\\arshiya-hiroyuki-api\\load_functions.py:34: UserWarning: pandas only supports SQLAlchemy connectable (engine/connection) or database string URI or sqlite3 DBAPI2 connection. Other DBAPI2 objects are not tested. Please consider using SQLAlchemy.\n",
      "  latest_data.to_sql('cpi_table', con, if_exists='append', index=False)\n",
      "c:\\Users\\oiwah\\OneDrive\\デスクトップ\\2025_Spring_Python\\lab4\\arshiya-hiroyuki-api\\load_functions.py:34: UserWarning: pandas only supports SQLAlchemy connectable (engine/connection) or database string URI or sqlite3 DBAPI2 connection. Other DBAPI2 objects are not tested. Please consider using SQLAlchemy.\n",
      "  latest_data.to_sql('cpi_table', con, if_exists='append', index=False)\n",
      "c:\\Users\\oiwah\\OneDrive\\デスクトップ\\2025_Spring_Python\\lab4\\arshiya-hiroyuki-api\\load_functions.py:34: UserWarning: pandas only supports SQLAlchemy connectable (engine/connection) or database string URI or sqlite3 DBAPI2 connection. Other DBAPI2 objects are not tested. Please consider using SQLAlchemy.\n",
      "  latest_data.to_sql('cpi_table', con, if_exists='append', index=False)\n",
      "c:\\Users\\oiwah\\OneDrive\\デスクトップ\\2025_Spring_Python\\lab4\\arshiya-hiroyuki-api\\load_functions.py:34: UserWarning: pandas only supports SQLAlchemy connectable (engine/connection) or database string URI or sqlite3 DBAPI2 connection. Other DBAPI2 objects are not tested. Please consider using SQLAlchemy.\n",
      "  latest_data.to_sql('cpi_table', con, if_exists='append', index=False)\n",
      "c:\\Users\\oiwah\\OneDrive\\デスクトップ\\2025_Spring_Python\\lab4\\arshiya-hiroyuki-api\\load_functions.py:34: UserWarning: pandas only supports SQLAlchemy connectable (engine/connection) or database string URI or sqlite3 DBAPI2 connection. Other DBAPI2 objects are not tested. Please consider using SQLAlchemy.\n",
      "  latest_data.to_sql('cpi_table', con, if_exists='append', index=False)\n",
      "c:\\Users\\oiwah\\OneDrive\\デスクトップ\\2025_Spring_Python\\lab4\\arshiya-hiroyuki-api\\load_functions.py:34: UserWarning: pandas only supports SQLAlchemy connectable (engine/connection) or database string URI or sqlite3 DBAPI2 connection. Other DBAPI2 objects are not tested. Please consider using SQLAlchemy.\n",
      "  latest_data.to_sql('cpi_table', con, if_exists='append', index=False)\n",
      "c:\\Users\\oiwah\\OneDrive\\デスクトップ\\2025_Spring_Python\\lab4\\arshiya-hiroyuki-api\\load_functions.py:34: UserWarning: pandas only supports SQLAlchemy connectable (engine/connection) or database string URI or sqlite3 DBAPI2 connection. Other DBAPI2 objects are not tested. Please consider using SQLAlchemy.\n",
      "  latest_data.to_sql('cpi_table', con, if_exists='append', index=False)\n",
      "c:\\Users\\oiwah\\OneDrive\\デスクトップ\\2025_Spring_Python\\lab4\\arshiya-hiroyuki-api\\load_functions.py:34: UserWarning: pandas only supports SQLAlchemy connectable (engine/connection) or database string URI or sqlite3 DBAPI2 connection. Other DBAPI2 objects are not tested. Please consider using SQLAlchemy.\n",
      "  latest_data.to_sql('cpi_table', con, if_exists='append', index=False)\n",
      "c:\\Users\\oiwah\\OneDrive\\デスクトップ\\2025_Spring_Python\\lab4\\arshiya-hiroyuki-api\\load_functions.py:34: UserWarning: pandas only supports SQLAlchemy connectable (engine/connection) or database string URI or sqlite3 DBAPI2 connection. Other DBAPI2 objects are not tested. Please consider using SQLAlchemy.\n",
      "  latest_data.to_sql('cpi_table', con, if_exists='append', index=False)\n",
      "c:\\Users\\oiwah\\OneDrive\\デスクトップ\\2025_Spring_Python\\lab4\\arshiya-hiroyuki-api\\load_functions.py:34: UserWarning: pandas only supports SQLAlchemy connectable (engine/connection) or database string URI or sqlite3 DBAPI2 connection. Other DBAPI2 objects are not tested. Please consider using SQLAlchemy.\n",
      "  latest_data.to_sql('cpi_table', con, if_exists='append', index=False)\n",
      "c:\\Users\\oiwah\\OneDrive\\デスクトップ\\2025_Spring_Python\\lab4\\arshiya-hiroyuki-api\\load_functions.py:34: UserWarning: pandas only supports SQLAlchemy connectable (engine/connection) or database string URI or sqlite3 DBAPI2 connection. Other DBAPI2 objects are not tested. Please consider using SQLAlchemy.\n",
      "  latest_data.to_sql('cpi_table', con, if_exists='append', index=False)\n",
      "c:\\Users\\oiwah\\OneDrive\\デスクトップ\\2025_Spring_Python\\lab4\\arshiya-hiroyuki-api\\load_functions.py:34: UserWarning: pandas only supports SQLAlchemy connectable (engine/connection) or database string URI or sqlite3 DBAPI2 connection. Other DBAPI2 objects are not tested. Please consider using SQLAlchemy.\n",
      "  latest_data.to_sql('cpi_table', con, if_exists='append', index=False)\n",
      "c:\\Users\\oiwah\\OneDrive\\デスクトップ\\2025_Spring_Python\\lab4\\arshiya-hiroyuki-api\\load_functions.py:34: UserWarning: pandas only supports SQLAlchemy connectable (engine/connection) or database string URI or sqlite3 DBAPI2 connection. Other DBAPI2 objects are not tested. Please consider using SQLAlchemy.\n",
      "  latest_data.to_sql('cpi_table', con, if_exists='append', index=False)\n",
      "c:\\Users\\oiwah\\OneDrive\\デスクトップ\\2025_Spring_Python\\lab4\\arshiya-hiroyuki-api\\load_functions.py:34: UserWarning: pandas only supports SQLAlchemy connectable (engine/connection) or database string URI or sqlite3 DBAPI2 connection. Other DBAPI2 objects are not tested. Please consider using SQLAlchemy.\n",
      "  latest_data.to_sql('cpi_table', con, if_exists='append', index=False)\n",
      "c:\\Users\\oiwah\\OneDrive\\デスクトップ\\2025_Spring_Python\\lab4\\arshiya-hiroyuki-api\\load_functions.py:34: UserWarning: pandas only supports SQLAlchemy connectable (engine/connection) or database string URI or sqlite3 DBAPI2 connection. Other DBAPI2 objects are not tested. Please consider using SQLAlchemy.\n",
      "  latest_data.to_sql('cpi_table', con, if_exists='append', index=False)\n",
      "c:\\Users\\oiwah\\OneDrive\\デスクトップ\\2025_Spring_Python\\lab4\\arshiya-hiroyuki-api\\load_functions.py:34: UserWarning: pandas only supports SQLAlchemy connectable (engine/connection) or database string URI or sqlite3 DBAPI2 connection. Other DBAPI2 objects are not tested. Please consider using SQLAlchemy.\n",
      "  latest_data.to_sql('cpi_table', con, if_exists='append', index=False)\n",
      "c:\\Users\\oiwah\\OneDrive\\デスクトップ\\2025_Spring_Python\\lab4\\arshiya-hiroyuki-api\\load_functions.py:34: UserWarning: pandas only supports SQLAlchemy connectable (engine/connection) or database string URI or sqlite3 DBAPI2 connection. Other DBAPI2 objects are not tested. Please consider using SQLAlchemy.\n",
      "  latest_data.to_sql('cpi_table', con, if_exists='append', index=False)\n",
      "c:\\Users\\oiwah\\OneDrive\\デスクトップ\\2025_Spring_Python\\lab4\\arshiya-hiroyuki-api\\load_functions.py:34: UserWarning: pandas only supports SQLAlchemy connectable (engine/connection) or database string URI or sqlite3 DBAPI2 connection. Other DBAPI2 objects are not tested. Please consider using SQLAlchemy.\n",
      "  latest_data.to_sql('cpi_table', con, if_exists='append', index=False)\n",
      "c:\\Users\\oiwah\\OneDrive\\デスクトップ\\2025_Spring_Python\\lab4\\arshiya-hiroyuki-api\\load_functions.py:34: UserWarning: pandas only supports SQLAlchemy connectable (engine/connection) or database string URI or sqlite3 DBAPI2 connection. Other DBAPI2 objects are not tested. Please consider using SQLAlchemy.\n",
      "  latest_data.to_sql('cpi_table', con, if_exists='append', index=False)\n",
      "c:\\Users\\oiwah\\OneDrive\\デスクトップ\\2025_Spring_Python\\lab4\\arshiya-hiroyuki-api\\load_functions.py:34: UserWarning: pandas only supports SQLAlchemy connectable (engine/connection) or database string URI or sqlite3 DBAPI2 connection. Other DBAPI2 objects are not tested. Please consider using SQLAlchemy.\n",
      "  latest_data.to_sql('cpi_table', con, if_exists='append', index=False)\n",
      "c:\\Users\\oiwah\\OneDrive\\デスクトップ\\2025_Spring_Python\\lab4\\arshiya-hiroyuki-api\\load_functions.py:34: UserWarning: pandas only supports SQLAlchemy connectable (engine/connection) or database string URI or sqlite3 DBAPI2 connection. Other DBAPI2 objects are not tested. Please consider using SQLAlchemy.\n",
      "  latest_data.to_sql('cpi_table', con, if_exists='append', index=False)\n",
      "c:\\Users\\oiwah\\OneDrive\\デスクトップ\\2025_Spring_Python\\lab4\\arshiya-hiroyuki-api\\load_functions.py:34: UserWarning: pandas only supports SQLAlchemy connectable (engine/connection) or database string URI or sqlite3 DBAPI2 connection. Other DBAPI2 objects are not tested. Please consider using SQLAlchemy.\n",
      "  latest_data.to_sql('cpi_table', con, if_exists='append', index=False)\n",
      "c:\\Users\\oiwah\\OneDrive\\デスクトップ\\2025_Spring_Python\\lab4\\arshiya-hiroyuki-api\\load_functions.py:34: UserWarning: pandas only supports SQLAlchemy connectable (engine/connection) or database string URI or sqlite3 DBAPI2 connection. Other DBAPI2 objects are not tested. Please consider using SQLAlchemy.\n",
      "  latest_data.to_sql('cpi_table', con, if_exists='append', index=False)\n",
      "c:\\Users\\oiwah\\OneDrive\\デスクトップ\\2025_Spring_Python\\lab4\\arshiya-hiroyuki-api\\load_functions.py:34: UserWarning: pandas only supports SQLAlchemy connectable (engine/connection) or database string URI or sqlite3 DBAPI2 connection. Other DBAPI2 objects are not tested. Please consider using SQLAlchemy.\n",
      "  latest_data.to_sql('cpi_table', con, if_exists='append', index=False)\n",
      "c:\\Users\\oiwah\\OneDrive\\デスクトップ\\2025_Spring_Python\\lab4\\arshiya-hiroyuki-api\\load_functions.py:34: UserWarning: pandas only supports SQLAlchemy connectable (engine/connection) or database string URI or sqlite3 DBAPI2 connection. Other DBAPI2 objects are not tested. Please consider using SQLAlchemy.\n",
      "  latest_data.to_sql('cpi_table', con, if_exists='append', index=False)\n",
      "c:\\Users\\oiwah\\OneDrive\\デスクトップ\\2025_Spring_Python\\lab4\\arshiya-hiroyuki-api\\load_functions.py:34: UserWarning: pandas only supports SQLAlchemy connectable (engine/connection) or database string URI or sqlite3 DBAPI2 connection. Other DBAPI2 objects are not tested. Please consider using SQLAlchemy.\n",
      "  latest_data.to_sql('cpi_table', con, if_exists='append', index=False)\n",
      "c:\\Users\\oiwah\\OneDrive\\デスクトップ\\2025_Spring_Python\\lab4\\arshiya-hiroyuki-api\\load_functions.py:34: UserWarning: pandas only supports SQLAlchemy connectable (engine/connection) or database string URI or sqlite3 DBAPI2 connection. Other DBAPI2 objects are not tested. Please consider using SQLAlchemy.\n",
      "  latest_data.to_sql('cpi_table', con, if_exists='append', index=False)\n",
      "c:\\Users\\oiwah\\OneDrive\\デスクトップ\\2025_Spring_Python\\lab4\\arshiya-hiroyuki-api\\load_functions.py:34: UserWarning: pandas only supports SQLAlchemy connectable (engine/connection) or database string URI or sqlite3 DBAPI2 connection. Other DBAPI2 objects are not tested. Please consider using SQLAlchemy.\n",
      "  latest_data.to_sql('cpi_table', con, if_exists='append', index=False)\n",
      "c:\\Users\\oiwah\\OneDrive\\デスクトップ\\2025_Spring_Python\\lab4\\arshiya-hiroyuki-api\\load_functions.py:34: UserWarning: pandas only supports SQLAlchemy connectable (engine/connection) or database string URI or sqlite3 DBAPI2 connection. Other DBAPI2 objects are not tested. Please consider using SQLAlchemy.\n",
      "  latest_data.to_sql('cpi_table', con, if_exists='append', index=False)\n",
      "c:\\Users\\oiwah\\OneDrive\\デスクトップ\\2025_Spring_Python\\lab4\\arshiya-hiroyuki-api\\load_functions.py:34: UserWarning: pandas only supports SQLAlchemy connectable (engine/connection) or database string URI or sqlite3 DBAPI2 connection. Other DBAPI2 objects are not tested. Please consider using SQLAlchemy.\n",
      "  latest_data.to_sql('cpi_table', con, if_exists='append', index=False)\n",
      "c:\\Users\\oiwah\\OneDrive\\デスクトップ\\2025_Spring_Python\\lab4\\arshiya-hiroyuki-api\\load_functions.py:34: UserWarning: pandas only supports SQLAlchemy connectable (engine/connection) or database string URI or sqlite3 DBAPI2 connection. Other DBAPI2 objects are not tested. Please consider using SQLAlchemy.\n",
      "  latest_data.to_sql('cpi_table', con, if_exists='append', index=False)\n",
      "c:\\Users\\oiwah\\OneDrive\\デスクトップ\\2025_Spring_Python\\lab4\\arshiya-hiroyuki-api\\load_functions.py:34: UserWarning: pandas only supports SQLAlchemy connectable (engine/connection) or database string URI or sqlite3 DBAPI2 connection. Other DBAPI2 objects are not tested. Please consider using SQLAlchemy.\n",
      "  latest_data.to_sql('cpi_table', con, if_exists='append', index=False)\n",
      "c:\\Users\\oiwah\\OneDrive\\デスクトップ\\2025_Spring_Python\\lab4\\arshiya-hiroyuki-api\\load_functions.py:34: UserWarning: pandas only supports SQLAlchemy connectable (engine/connection) or database string URI or sqlite3 DBAPI2 connection. Other DBAPI2 objects are not tested. Please consider using SQLAlchemy.\n",
      "  latest_data.to_sql('cpi_table', con, if_exists='append', index=False)\n",
      "c:\\Users\\oiwah\\OneDrive\\デスクトップ\\2025_Spring_Python\\lab4\\arshiya-hiroyuki-api\\load_functions.py:34: UserWarning: pandas only supports SQLAlchemy connectable (engine/connection) or database string URI or sqlite3 DBAPI2 connection. Other DBAPI2 objects are not tested. Please consider using SQLAlchemy.\n",
      "  latest_data.to_sql('cpi_table', con, if_exists='append', index=False)\n",
      "c:\\Users\\oiwah\\OneDrive\\デスクトップ\\2025_Spring_Python\\lab4\\arshiya-hiroyuki-api\\load_functions.py:34: UserWarning: pandas only supports SQLAlchemy connectable (engine/connection) or database string URI or sqlite3 DBAPI2 connection. Other DBAPI2 objects are not tested. Please consider using SQLAlchemy.\n",
      "  latest_data.to_sql('cpi_table', con, if_exists='append', index=False)\n",
      "c:\\Users\\oiwah\\OneDrive\\デスクトップ\\2025_Spring_Python\\lab4\\arshiya-hiroyuki-api\\load_functions.py:34: UserWarning: pandas only supports SQLAlchemy connectable (engine/connection) or database string URI or sqlite3 DBAPI2 connection. Other DBAPI2 objects are not tested. Please consider using SQLAlchemy.\n",
      "  latest_data.to_sql('cpi_table', con, if_exists='append', index=False)\n",
      "c:\\Users\\oiwah\\OneDrive\\デスクトップ\\2025_Spring_Python\\lab4\\arshiya-hiroyuki-api\\load_functions.py:34: UserWarning: pandas only supports SQLAlchemy connectable (engine/connection) or database string URI or sqlite3 DBAPI2 connection. Other DBAPI2 objects are not tested. Please consider using SQLAlchemy.\n",
      "  latest_data.to_sql('cpi_table', con, if_exists='append', index=False)\n",
      "c:\\Users\\oiwah\\OneDrive\\デスクトップ\\2025_Spring_Python\\lab4\\arshiya-hiroyuki-api\\load_functions.py:34: UserWarning: pandas only supports SQLAlchemy connectable (engine/connection) or database string URI or sqlite3 DBAPI2 connection. Other DBAPI2 objects are not tested. Please consider using SQLAlchemy.\n",
      "  latest_data.to_sql('cpi_table', con, if_exists='append', index=False)\n",
      "c:\\Users\\oiwah\\OneDrive\\デスクトップ\\2025_Spring_Python\\lab4\\arshiya-hiroyuki-api\\load_functions.py:34: UserWarning: pandas only supports SQLAlchemy connectable (engine/connection) or database string URI or sqlite3 DBAPI2 connection. Other DBAPI2 objects are not tested. Please consider using SQLAlchemy.\n",
      "  latest_data.to_sql('cpi_table', con, if_exists='append', index=False)\n",
      "c:\\Users\\oiwah\\OneDrive\\デスクトップ\\2025_Spring_Python\\lab4\\arshiya-hiroyuki-api\\load_functions.py:34: UserWarning: pandas only supports SQLAlchemy connectable (engine/connection) or database string URI or sqlite3 DBAPI2 connection. Other DBAPI2 objects are not tested. Please consider using SQLAlchemy.\n",
      "  latest_data.to_sql('cpi_table', con, if_exists='append', index=False)\n",
      "c:\\Users\\oiwah\\OneDrive\\デスクトップ\\2025_Spring_Python\\lab4\\arshiya-hiroyuki-api\\load_functions.py:34: UserWarning: pandas only supports SQLAlchemy connectable (engine/connection) or database string URI or sqlite3 DBAPI2 connection. Other DBAPI2 objects are not tested. Please consider using SQLAlchemy.\n",
      "  latest_data.to_sql('cpi_table', con, if_exists='append', index=False)\n",
      "c:\\Users\\oiwah\\OneDrive\\デスクトップ\\2025_Spring_Python\\lab4\\arshiya-hiroyuki-api\\load_functions.py:34: UserWarning: pandas only supports SQLAlchemy connectable (engine/connection) or database string URI or sqlite3 DBAPI2 connection. Other DBAPI2 objects are not tested. Please consider using SQLAlchemy.\n",
      "  latest_data.to_sql('cpi_table', con, if_exists='append', index=False)\n",
      "c:\\Users\\oiwah\\OneDrive\\デスクトップ\\2025_Spring_Python\\lab4\\arshiya-hiroyuki-api\\load_functions.py:34: UserWarning: pandas only supports SQLAlchemy connectable (engine/connection) or database string URI or sqlite3 DBAPI2 connection. Other DBAPI2 objects are not tested. Please consider using SQLAlchemy.\n",
      "  latest_data.to_sql('cpi_table', con, if_exists='append', index=False)\n",
      "c:\\Users\\oiwah\\OneDrive\\デスクトップ\\2025_Spring_Python\\lab4\\arshiya-hiroyuki-api\\load_functions.py:34: UserWarning: pandas only supports SQLAlchemy connectable (engine/connection) or database string URI or sqlite3 DBAPI2 connection. Other DBAPI2 objects are not tested. Please consider using SQLAlchemy.\n",
      "  latest_data.to_sql('cpi_table', con, if_exists='append', index=False)\n",
      "c:\\Users\\oiwah\\OneDrive\\デスクトップ\\2025_Spring_Python\\lab4\\arshiya-hiroyuki-api\\load_functions.py:34: UserWarning: pandas only supports SQLAlchemy connectable (engine/connection) or database string URI or sqlite3 DBAPI2 connection. Other DBAPI2 objects are not tested. Please consider using SQLAlchemy.\n",
      "  latest_data.to_sql('cpi_table', con, if_exists='append', index=False)\n",
      "c:\\Users\\oiwah\\OneDrive\\デスクトップ\\2025_Spring_Python\\lab4\\arshiya-hiroyuki-api\\load_functions.py:34: UserWarning: pandas only supports SQLAlchemy connectable (engine/connection) or database string URI or sqlite3 DBAPI2 connection. Other DBAPI2 objects are not tested. Please consider using SQLAlchemy.\n",
      "  latest_data.to_sql('cpi_table', con, if_exists='append', index=False)\n",
      "c:\\Users\\oiwah\\OneDrive\\デスクトップ\\2025_Spring_Python\\lab4\\arshiya-hiroyuki-api\\load_functions.py:34: UserWarning: pandas only supports SQLAlchemy connectable (engine/connection) or database string URI or sqlite3 DBAPI2 connection. Other DBAPI2 objects are not tested. Please consider using SQLAlchemy.\n",
      "  latest_data.to_sql('cpi_table', con, if_exists='append', index=False)\n",
      "c:\\Users\\oiwah\\OneDrive\\デスクトップ\\2025_Spring_Python\\lab4\\arshiya-hiroyuki-api\\load_functions.py:34: UserWarning: pandas only supports SQLAlchemy connectable (engine/connection) or database string URI or sqlite3 DBAPI2 connection. Other DBAPI2 objects are not tested. Please consider using SQLAlchemy.\n",
      "  latest_data.to_sql('cpi_table', con, if_exists='append', index=False)\n",
      "c:\\Users\\oiwah\\OneDrive\\デスクトップ\\2025_Spring_Python\\lab4\\arshiya-hiroyuki-api\\load_functions.py:34: UserWarning: pandas only supports SQLAlchemy connectable (engine/connection) or database string URI or sqlite3 DBAPI2 connection. Other DBAPI2 objects are not tested. Please consider using SQLAlchemy.\n",
      "  latest_data.to_sql('cpi_table', con, if_exists='append', index=False)\n",
      "c:\\Users\\oiwah\\OneDrive\\デスクトップ\\2025_Spring_Python\\lab4\\arshiya-hiroyuki-api\\load_functions.py:34: UserWarning: pandas only supports SQLAlchemy connectable (engine/connection) or database string URI or sqlite3 DBAPI2 connection. Other DBAPI2 objects are not tested. Please consider using SQLAlchemy.\n",
      "  latest_data.to_sql('cpi_table', con, if_exists='append', index=False)\n",
      "c:\\Users\\oiwah\\OneDrive\\デスクトップ\\2025_Spring_Python\\lab4\\arshiya-hiroyuki-api\\load_functions.py:34: UserWarning: pandas only supports SQLAlchemy connectable (engine/connection) or database string URI or sqlite3 DBAPI2 connection. Other DBAPI2 objects are not tested. Please consider using SQLAlchemy.\n",
      "  latest_data.to_sql('cpi_table', con, if_exists='append', index=False)\n",
      "c:\\Users\\oiwah\\OneDrive\\デスクトップ\\2025_Spring_Python\\lab4\\arshiya-hiroyuki-api\\load_functions.py:34: UserWarning: pandas only supports SQLAlchemy connectable (engine/connection) or database string URI or sqlite3 DBAPI2 connection. Other DBAPI2 objects are not tested. Please consider using SQLAlchemy.\n",
      "  latest_data.to_sql('cpi_table', con, if_exists='append', index=False)\n",
      "c:\\Users\\oiwah\\OneDrive\\デスクトップ\\2025_Spring_Python\\lab4\\arshiya-hiroyuki-api\\load_functions.py:34: UserWarning: pandas only supports SQLAlchemy connectable (engine/connection) or database string URI or sqlite3 DBAPI2 connection. Other DBAPI2 objects are not tested. Please consider using SQLAlchemy.\n",
      "  latest_data.to_sql('cpi_table', con, if_exists='append', index=False)\n",
      "c:\\Users\\oiwah\\OneDrive\\デスクトップ\\2025_Spring_Python\\lab4\\arshiya-hiroyuki-api\\load_functions.py:34: UserWarning: pandas only supports SQLAlchemy connectable (engine/connection) or database string URI or sqlite3 DBAPI2 connection. Other DBAPI2 objects are not tested. Please consider using SQLAlchemy.\n",
      "  latest_data.to_sql('cpi_table', con, if_exists='append', index=False)\n",
      "c:\\Users\\oiwah\\OneDrive\\デスクトップ\\2025_Spring_Python\\lab4\\arshiya-hiroyuki-api\\load_functions.py:34: UserWarning: pandas only supports SQLAlchemy connectable (engine/connection) or database string URI or sqlite3 DBAPI2 connection. Other DBAPI2 objects are not tested. Please consider using SQLAlchemy.\n",
      "  latest_data.to_sql('cpi_table', con, if_exists='append', index=False)\n",
      "c:\\Users\\oiwah\\OneDrive\\デスクトップ\\2025_Spring_Python\\lab4\\arshiya-hiroyuki-api\\load_functions.py:34: UserWarning: pandas only supports SQLAlchemy connectable (engine/connection) or database string URI or sqlite3 DBAPI2 connection. Other DBAPI2 objects are not tested. Please consider using SQLAlchemy.\n",
      "  latest_data.to_sql('cpi_table', con, if_exists='append', index=False)\n",
      "c:\\Users\\oiwah\\OneDrive\\デスクトップ\\2025_Spring_Python\\lab4\\arshiya-hiroyuki-api\\load_functions.py:34: UserWarning: pandas only supports SQLAlchemy connectable (engine/connection) or database string URI or sqlite3 DBAPI2 connection. Other DBAPI2 objects are not tested. Please consider using SQLAlchemy.\n",
      "  latest_data.to_sql('cpi_table', con, if_exists='append', index=False)\n",
      "c:\\Users\\oiwah\\OneDrive\\デスクトップ\\2025_Spring_Python\\lab4\\arshiya-hiroyuki-api\\load_functions.py:34: UserWarning: pandas only supports SQLAlchemy connectable (engine/connection) or database string URI or sqlite3 DBAPI2 connection. Other DBAPI2 objects are not tested. Please consider using SQLAlchemy.\n",
      "  latest_data.to_sql('cpi_table', con, if_exists='append', index=False)\n",
      "c:\\Users\\oiwah\\OneDrive\\デスクトップ\\2025_Spring_Python\\lab4\\arshiya-hiroyuki-api\\load_functions.py:34: UserWarning: pandas only supports SQLAlchemy connectable (engine/connection) or database string URI or sqlite3 DBAPI2 connection. Other DBAPI2 objects are not tested. Please consider using SQLAlchemy.\n",
      "  latest_data.to_sql('cpi_table', con, if_exists='append', index=False)\n",
      "c:\\Users\\oiwah\\OneDrive\\デスクトップ\\2025_Spring_Python\\lab4\\arshiya-hiroyuki-api\\load_functions.py:34: UserWarning: pandas only supports SQLAlchemy connectable (engine/connection) or database string URI or sqlite3 DBAPI2 connection. Other DBAPI2 objects are not tested. Please consider using SQLAlchemy.\n",
      "  latest_data.to_sql('cpi_table', con, if_exists='append', index=False)\n"
     ]
    },
    {
     "name": "stdout",
     "output_type": "stream",
     "text": [
      "Total Execution Time of Truncate: 389.45 seconds\n"
     ]
    }
   ],
   "source": [
    "con_truncate = duckdb.connect('cpi_truncate.duckdb')\n",
    "con_truncate.execute('DROP TABLE IF EXISTS cpi_table')\n",
    "con_truncate.execute(\"\"\"\n",
    "    CREATE TABLE IF NOT EXISTS cpi_table (\n",
    "        DATE STRING,\n",
    "        CPI FLOAT\n",
    "    )\n",
    "\"\"\")\n",
    "\n",
    "print(f'Total Execution Time of Truncate: {measure_time(update_truncate, date_range, url, con_truncate):.2f} seconds')\n",
    "\n",
    "con_truncate.close()"
   ]
  },
  {
   "cell_type": "markdown",
   "metadata": {},
   "source": [
    "3. Check the performance of Incremental Load."
   ]
  },
  {
   "cell_type": "code",
   "execution_count": 33,
   "metadata": {},
   "outputs": [
    {
     "name": "stderr",
     "output_type": "stream",
     "text": [
      "c:\\Users\\oiwah\\OneDrive\\デスクトップ\\2025_Spring_Python\\lab4\\arshiya-hiroyuki-api\\load_functions.py:56: UserWarning: pandas only supports SQLAlchemy connectable (engine/connection) or database string URI or sqlite3 DBAPI2 connection. Other DBAPI2 objects are not tested. Please consider using SQLAlchemy.\n",
      "  latest_data.to_sql('cpi_table', con, if_exists='append', index=False)\n",
      "c:\\Users\\oiwah\\OneDrive\\デスクトップ\\2025_Spring_Python\\lab4\\arshiya-hiroyuki-api\\load_functions.py:54: UserWarning: pandas only supports SQLAlchemy connectable (engine/connection) or database string URI or sqlite3 DBAPI2 connection. Other DBAPI2 objects are not tested. Please consider using SQLAlchemy.\n",
      "  updated_data.to_sql('cpi_table', con, if_exists='append', index=False)\n",
      "c:\\Users\\oiwah\\OneDrive\\デスクトップ\\2025_Spring_Python\\lab4\\arshiya-hiroyuki-api\\load_functions.py:54: UserWarning: pandas only supports SQLAlchemy connectable (engine/connection) or database string URI or sqlite3 DBAPI2 connection. Other DBAPI2 objects are not tested. Please consider using SQLAlchemy.\n",
      "  updated_data.to_sql('cpi_table', con, if_exists='append', index=False)\n",
      "c:\\Users\\oiwah\\OneDrive\\デスクトップ\\2025_Spring_Python\\lab4\\arshiya-hiroyuki-api\\load_functions.py:54: UserWarning: pandas only supports SQLAlchemy connectable (engine/connection) or database string URI or sqlite3 DBAPI2 connection. Other DBAPI2 objects are not tested. Please consider using SQLAlchemy.\n",
      "  updated_data.to_sql('cpi_table', con, if_exists='append', index=False)\n",
      "c:\\Users\\oiwah\\OneDrive\\デスクトップ\\2025_Spring_Python\\lab4\\arshiya-hiroyuki-api\\load_functions.py:54: UserWarning: pandas only supports SQLAlchemy connectable (engine/connection) or database string URI or sqlite3 DBAPI2 connection. Other DBAPI2 objects are not tested. Please consider using SQLAlchemy.\n",
      "  updated_data.to_sql('cpi_table', con, if_exists='append', index=False)\n",
      "c:\\Users\\oiwah\\OneDrive\\デスクトップ\\2025_Spring_Python\\lab4\\arshiya-hiroyuki-api\\load_functions.py:54: UserWarning: pandas only supports SQLAlchemy connectable (engine/connection) or database string URI or sqlite3 DBAPI2 connection. Other DBAPI2 objects are not tested. Please consider using SQLAlchemy.\n",
      "  updated_data.to_sql('cpi_table', con, if_exists='append', index=False)\n",
      "c:\\Users\\oiwah\\OneDrive\\デスクトップ\\2025_Spring_Python\\lab4\\arshiya-hiroyuki-api\\load_functions.py:54: UserWarning: pandas only supports SQLAlchemy connectable (engine/connection) or database string URI or sqlite3 DBAPI2 connection. Other DBAPI2 objects are not tested. Please consider using SQLAlchemy.\n",
      "  updated_data.to_sql('cpi_table', con, if_exists='append', index=False)\n",
      "c:\\Users\\oiwah\\OneDrive\\デスクトップ\\2025_Spring_Python\\lab4\\arshiya-hiroyuki-api\\load_functions.py:54: UserWarning: pandas only supports SQLAlchemy connectable (engine/connection) or database string URI or sqlite3 DBAPI2 connection. Other DBAPI2 objects are not tested. Please consider using SQLAlchemy.\n",
      "  updated_data.to_sql('cpi_table', con, if_exists='append', index=False)\n",
      "c:\\Users\\oiwah\\OneDrive\\デスクトップ\\2025_Spring_Python\\lab4\\arshiya-hiroyuki-api\\load_functions.py:54: UserWarning: pandas only supports SQLAlchemy connectable (engine/connection) or database string URI or sqlite3 DBAPI2 connection. Other DBAPI2 objects are not tested. Please consider using SQLAlchemy.\n",
      "  updated_data.to_sql('cpi_table', con, if_exists='append', index=False)\n",
      "c:\\Users\\oiwah\\OneDrive\\デスクトップ\\2025_Spring_Python\\lab4\\arshiya-hiroyuki-api\\load_functions.py:54: UserWarning: pandas only supports SQLAlchemy connectable (engine/connection) or database string URI or sqlite3 DBAPI2 connection. Other DBAPI2 objects are not tested. Please consider using SQLAlchemy.\n",
      "  updated_data.to_sql('cpi_table', con, if_exists='append', index=False)\n",
      "c:\\Users\\oiwah\\OneDrive\\デスクトップ\\2025_Spring_Python\\lab4\\arshiya-hiroyuki-api\\load_functions.py:54: UserWarning: pandas only supports SQLAlchemy connectable (engine/connection) or database string URI or sqlite3 DBAPI2 connection. Other DBAPI2 objects are not tested. Please consider using SQLAlchemy.\n",
      "  updated_data.to_sql('cpi_table', con, if_exists='append', index=False)\n",
      "c:\\Users\\oiwah\\OneDrive\\デスクトップ\\2025_Spring_Python\\lab4\\arshiya-hiroyuki-api\\load_functions.py:54: UserWarning: pandas only supports SQLAlchemy connectable (engine/connection) or database string URI or sqlite3 DBAPI2 connection. Other DBAPI2 objects are not tested. Please consider using SQLAlchemy.\n",
      "  updated_data.to_sql('cpi_table', con, if_exists='append', index=False)\n",
      "c:\\Users\\oiwah\\OneDrive\\デスクトップ\\2025_Spring_Python\\lab4\\arshiya-hiroyuki-api\\load_functions.py:54: UserWarning: pandas only supports SQLAlchemy connectable (engine/connection) or database string URI or sqlite3 DBAPI2 connection. Other DBAPI2 objects are not tested. Please consider using SQLAlchemy.\n",
      "  updated_data.to_sql('cpi_table', con, if_exists='append', index=False)\n",
      "c:\\Users\\oiwah\\OneDrive\\デスクトップ\\2025_Spring_Python\\lab4\\arshiya-hiroyuki-api\\load_functions.py:54: UserWarning: pandas only supports SQLAlchemy connectable (engine/connection) or database string URI or sqlite3 DBAPI2 connection. Other DBAPI2 objects are not tested. Please consider using SQLAlchemy.\n",
      "  updated_data.to_sql('cpi_table', con, if_exists='append', index=False)\n",
      "c:\\Users\\oiwah\\OneDrive\\デスクトップ\\2025_Spring_Python\\lab4\\arshiya-hiroyuki-api\\load_functions.py:54: UserWarning: pandas only supports SQLAlchemy connectable (engine/connection) or database string URI or sqlite3 DBAPI2 connection. Other DBAPI2 objects are not tested. Please consider using SQLAlchemy.\n",
      "  updated_data.to_sql('cpi_table', con, if_exists='append', index=False)\n",
      "c:\\Users\\oiwah\\OneDrive\\デスクトップ\\2025_Spring_Python\\lab4\\arshiya-hiroyuki-api\\load_functions.py:54: UserWarning: pandas only supports SQLAlchemy connectable (engine/connection) or database string URI or sqlite3 DBAPI2 connection. Other DBAPI2 objects are not tested. Please consider using SQLAlchemy.\n",
      "  updated_data.to_sql('cpi_table', con, if_exists='append', index=False)\n",
      "c:\\Users\\oiwah\\OneDrive\\デスクトップ\\2025_Spring_Python\\lab4\\arshiya-hiroyuki-api\\load_functions.py:54: UserWarning: pandas only supports SQLAlchemy connectable (engine/connection) or database string URI or sqlite3 DBAPI2 connection. Other DBAPI2 objects are not tested. Please consider using SQLAlchemy.\n",
      "  updated_data.to_sql('cpi_table', con, if_exists='append', index=False)\n",
      "c:\\Users\\oiwah\\OneDrive\\デスクトップ\\2025_Spring_Python\\lab4\\arshiya-hiroyuki-api\\load_functions.py:54: UserWarning: pandas only supports SQLAlchemy connectable (engine/connection) or database string URI or sqlite3 DBAPI2 connection. Other DBAPI2 objects are not tested. Please consider using SQLAlchemy.\n",
      "  updated_data.to_sql('cpi_table', con, if_exists='append', index=False)\n",
      "c:\\Users\\oiwah\\OneDrive\\デスクトップ\\2025_Spring_Python\\lab4\\arshiya-hiroyuki-api\\load_functions.py:54: UserWarning: pandas only supports SQLAlchemy connectable (engine/connection) or database string URI or sqlite3 DBAPI2 connection. Other DBAPI2 objects are not tested. Please consider using SQLAlchemy.\n",
      "  updated_data.to_sql('cpi_table', con, if_exists='append', index=False)\n",
      "c:\\Users\\oiwah\\OneDrive\\デスクトップ\\2025_Spring_Python\\lab4\\arshiya-hiroyuki-api\\load_functions.py:54: UserWarning: pandas only supports SQLAlchemy connectable (engine/connection) or database string URI or sqlite3 DBAPI2 connection. Other DBAPI2 objects are not tested. Please consider using SQLAlchemy.\n",
      "  updated_data.to_sql('cpi_table', con, if_exists='append', index=False)\n",
      "c:\\Users\\oiwah\\OneDrive\\デスクトップ\\2025_Spring_Python\\lab4\\arshiya-hiroyuki-api\\load_functions.py:54: UserWarning: pandas only supports SQLAlchemy connectable (engine/connection) or database string URI or sqlite3 DBAPI2 connection. Other DBAPI2 objects are not tested. Please consider using SQLAlchemy.\n",
      "  updated_data.to_sql('cpi_table', con, if_exists='append', index=False)\n",
      "c:\\Users\\oiwah\\OneDrive\\デスクトップ\\2025_Spring_Python\\lab4\\arshiya-hiroyuki-api\\load_functions.py:54: UserWarning: pandas only supports SQLAlchemy connectable (engine/connection) or database string URI or sqlite3 DBAPI2 connection. Other DBAPI2 objects are not tested. Please consider using SQLAlchemy.\n",
      "  updated_data.to_sql('cpi_table', con, if_exists='append', index=False)\n",
      "c:\\Users\\oiwah\\OneDrive\\デスクトップ\\2025_Spring_Python\\lab4\\arshiya-hiroyuki-api\\load_functions.py:54: UserWarning: pandas only supports SQLAlchemy connectable (engine/connection) or database string URI or sqlite3 DBAPI2 connection. Other DBAPI2 objects are not tested. Please consider using SQLAlchemy.\n",
      "  updated_data.to_sql('cpi_table', con, if_exists='append', index=False)\n",
      "c:\\Users\\oiwah\\OneDrive\\デスクトップ\\2025_Spring_Python\\lab4\\arshiya-hiroyuki-api\\load_functions.py:54: UserWarning: pandas only supports SQLAlchemy connectable (engine/connection) or database string URI or sqlite3 DBAPI2 connection. Other DBAPI2 objects are not tested. Please consider using SQLAlchemy.\n",
      "  updated_data.to_sql('cpi_table', con, if_exists='append', index=False)\n",
      "c:\\Users\\oiwah\\OneDrive\\デスクトップ\\2025_Spring_Python\\lab4\\arshiya-hiroyuki-api\\load_functions.py:54: UserWarning: pandas only supports SQLAlchemy connectable (engine/connection) or database string URI or sqlite3 DBAPI2 connection. Other DBAPI2 objects are not tested. Please consider using SQLAlchemy.\n",
      "  updated_data.to_sql('cpi_table', con, if_exists='append', index=False)\n",
      "c:\\Users\\oiwah\\OneDrive\\デスクトップ\\2025_Spring_Python\\lab4\\arshiya-hiroyuki-api\\load_functions.py:54: UserWarning: pandas only supports SQLAlchemy connectable (engine/connection) or database string URI or sqlite3 DBAPI2 connection. Other DBAPI2 objects are not tested. Please consider using SQLAlchemy.\n",
      "  updated_data.to_sql('cpi_table', con, if_exists='append', index=False)\n",
      "c:\\Users\\oiwah\\OneDrive\\デスクトップ\\2025_Spring_Python\\lab4\\arshiya-hiroyuki-api\\load_functions.py:54: UserWarning: pandas only supports SQLAlchemy connectable (engine/connection) or database string URI or sqlite3 DBAPI2 connection. Other DBAPI2 objects are not tested. Please consider using SQLAlchemy.\n",
      "  updated_data.to_sql('cpi_table', con, if_exists='append', index=False)\n",
      "c:\\Users\\oiwah\\OneDrive\\デスクトップ\\2025_Spring_Python\\lab4\\arshiya-hiroyuki-api\\load_functions.py:54: UserWarning: pandas only supports SQLAlchemy connectable (engine/connection) or database string URI or sqlite3 DBAPI2 connection. Other DBAPI2 objects are not tested. Please consider using SQLAlchemy.\n",
      "  updated_data.to_sql('cpi_table', con, if_exists='append', index=False)\n",
      "c:\\Users\\oiwah\\OneDrive\\デスクトップ\\2025_Spring_Python\\lab4\\arshiya-hiroyuki-api\\load_functions.py:54: UserWarning: pandas only supports SQLAlchemy connectable (engine/connection) or database string URI or sqlite3 DBAPI2 connection. Other DBAPI2 objects are not tested. Please consider using SQLAlchemy.\n",
      "  updated_data.to_sql('cpi_table', con, if_exists='append', index=False)\n",
      "c:\\Users\\oiwah\\OneDrive\\デスクトップ\\2025_Spring_Python\\lab4\\arshiya-hiroyuki-api\\load_functions.py:54: UserWarning: pandas only supports SQLAlchemy connectable (engine/connection) or database string URI or sqlite3 DBAPI2 connection. Other DBAPI2 objects are not tested. Please consider using SQLAlchemy.\n",
      "  updated_data.to_sql('cpi_table', con, if_exists='append', index=False)\n",
      "c:\\Users\\oiwah\\OneDrive\\デスクトップ\\2025_Spring_Python\\lab4\\arshiya-hiroyuki-api\\load_functions.py:54: UserWarning: pandas only supports SQLAlchemy connectable (engine/connection) or database string URI or sqlite3 DBAPI2 connection. Other DBAPI2 objects are not tested. Please consider using SQLAlchemy.\n",
      "  updated_data.to_sql('cpi_table', con, if_exists='append', index=False)\n",
      "c:\\Users\\oiwah\\OneDrive\\デスクトップ\\2025_Spring_Python\\lab4\\arshiya-hiroyuki-api\\load_functions.py:54: UserWarning: pandas only supports SQLAlchemy connectable (engine/connection) or database string URI or sqlite3 DBAPI2 connection. Other DBAPI2 objects are not tested. Please consider using SQLAlchemy.\n",
      "  updated_data.to_sql('cpi_table', con, if_exists='append', index=False)\n",
      "c:\\Users\\oiwah\\OneDrive\\デスクトップ\\2025_Spring_Python\\lab4\\arshiya-hiroyuki-api\\load_functions.py:54: UserWarning: pandas only supports SQLAlchemy connectable (engine/connection) or database string URI or sqlite3 DBAPI2 connection. Other DBAPI2 objects are not tested. Please consider using SQLAlchemy.\n",
      "  updated_data.to_sql('cpi_table', con, if_exists='append', index=False)\n",
      "c:\\Users\\oiwah\\OneDrive\\デスクトップ\\2025_Spring_Python\\lab4\\arshiya-hiroyuki-api\\load_functions.py:54: UserWarning: pandas only supports SQLAlchemy connectable (engine/connection) or database string URI or sqlite3 DBAPI2 connection. Other DBAPI2 objects are not tested. Please consider using SQLAlchemy.\n",
      "  updated_data.to_sql('cpi_table', con, if_exists='append', index=False)\n",
      "c:\\Users\\oiwah\\OneDrive\\デスクトップ\\2025_Spring_Python\\lab4\\arshiya-hiroyuki-api\\load_functions.py:54: UserWarning: pandas only supports SQLAlchemy connectable (engine/connection) or database string URI or sqlite3 DBAPI2 connection. Other DBAPI2 objects are not tested. Please consider using SQLAlchemy.\n",
      "  updated_data.to_sql('cpi_table', con, if_exists='append', index=False)\n",
      "c:\\Users\\oiwah\\OneDrive\\デスクトップ\\2025_Spring_Python\\lab4\\arshiya-hiroyuki-api\\load_functions.py:54: UserWarning: pandas only supports SQLAlchemy connectable (engine/connection) or database string URI or sqlite3 DBAPI2 connection. Other DBAPI2 objects are not tested. Please consider using SQLAlchemy.\n",
      "  updated_data.to_sql('cpi_table', con, if_exists='append', index=False)\n",
      "c:\\Users\\oiwah\\OneDrive\\デスクトップ\\2025_Spring_Python\\lab4\\arshiya-hiroyuki-api\\load_functions.py:54: UserWarning: pandas only supports SQLAlchemy connectable (engine/connection) or database string URI or sqlite3 DBAPI2 connection. Other DBAPI2 objects are not tested. Please consider using SQLAlchemy.\n",
      "  updated_data.to_sql('cpi_table', con, if_exists='append', index=False)\n",
      "c:\\Users\\oiwah\\OneDrive\\デスクトップ\\2025_Spring_Python\\lab4\\arshiya-hiroyuki-api\\load_functions.py:54: UserWarning: pandas only supports SQLAlchemy connectable (engine/connection) or database string URI or sqlite3 DBAPI2 connection. Other DBAPI2 objects are not tested. Please consider using SQLAlchemy.\n",
      "  updated_data.to_sql('cpi_table', con, if_exists='append', index=False)\n",
      "c:\\Users\\oiwah\\OneDrive\\デスクトップ\\2025_Spring_Python\\lab4\\arshiya-hiroyuki-api\\load_functions.py:54: UserWarning: pandas only supports SQLAlchemy connectable (engine/connection) or database string URI or sqlite3 DBAPI2 connection. Other DBAPI2 objects are not tested. Please consider using SQLAlchemy.\n",
      "  updated_data.to_sql('cpi_table', con, if_exists='append', index=False)\n",
      "c:\\Users\\oiwah\\OneDrive\\デスクトップ\\2025_Spring_Python\\lab4\\arshiya-hiroyuki-api\\load_functions.py:54: UserWarning: pandas only supports SQLAlchemy connectable (engine/connection) or database string URI or sqlite3 DBAPI2 connection. Other DBAPI2 objects are not tested. Please consider using SQLAlchemy.\n",
      "  updated_data.to_sql('cpi_table', con, if_exists='append', index=False)\n",
      "c:\\Users\\oiwah\\OneDrive\\デスクトップ\\2025_Spring_Python\\lab4\\arshiya-hiroyuki-api\\load_functions.py:54: UserWarning: pandas only supports SQLAlchemy connectable (engine/connection) or database string URI or sqlite3 DBAPI2 connection. Other DBAPI2 objects are not tested. Please consider using SQLAlchemy.\n",
      "  updated_data.to_sql('cpi_table', con, if_exists='append', index=False)\n",
      "c:\\Users\\oiwah\\OneDrive\\デスクトップ\\2025_Spring_Python\\lab4\\arshiya-hiroyuki-api\\load_functions.py:54: UserWarning: pandas only supports SQLAlchemy connectable (engine/connection) or database string URI or sqlite3 DBAPI2 connection. Other DBAPI2 objects are not tested. Please consider using SQLAlchemy.\n",
      "  updated_data.to_sql('cpi_table', con, if_exists='append', index=False)\n",
      "c:\\Users\\oiwah\\OneDrive\\デスクトップ\\2025_Spring_Python\\lab4\\arshiya-hiroyuki-api\\load_functions.py:54: UserWarning: pandas only supports SQLAlchemy connectable (engine/connection) or database string URI or sqlite3 DBAPI2 connection. Other DBAPI2 objects are not tested. Please consider using SQLAlchemy.\n",
      "  updated_data.to_sql('cpi_table', con, if_exists='append', index=False)\n",
      "c:\\Users\\oiwah\\OneDrive\\デスクトップ\\2025_Spring_Python\\lab4\\arshiya-hiroyuki-api\\load_functions.py:54: UserWarning: pandas only supports SQLAlchemy connectable (engine/connection) or database string URI or sqlite3 DBAPI2 connection. Other DBAPI2 objects are not tested. Please consider using SQLAlchemy.\n",
      "  updated_data.to_sql('cpi_table', con, if_exists='append', index=False)\n",
      "c:\\Users\\oiwah\\OneDrive\\デスクトップ\\2025_Spring_Python\\lab4\\arshiya-hiroyuki-api\\load_functions.py:54: UserWarning: pandas only supports SQLAlchemy connectable (engine/connection) or database string URI or sqlite3 DBAPI2 connection. Other DBAPI2 objects are not tested. Please consider using SQLAlchemy.\n",
      "  updated_data.to_sql('cpi_table', con, if_exists='append', index=False)\n",
      "c:\\Users\\oiwah\\OneDrive\\デスクトップ\\2025_Spring_Python\\lab4\\arshiya-hiroyuki-api\\load_functions.py:54: UserWarning: pandas only supports SQLAlchemy connectable (engine/connection) or database string URI or sqlite3 DBAPI2 connection. Other DBAPI2 objects are not tested. Please consider using SQLAlchemy.\n",
      "  updated_data.to_sql('cpi_table', con, if_exists='append', index=False)\n",
      "c:\\Users\\oiwah\\OneDrive\\デスクトップ\\2025_Spring_Python\\lab4\\arshiya-hiroyuki-api\\load_functions.py:54: UserWarning: pandas only supports SQLAlchemy connectable (engine/connection) or database string URI or sqlite3 DBAPI2 connection. Other DBAPI2 objects are not tested. Please consider using SQLAlchemy.\n",
      "  updated_data.to_sql('cpi_table', con, if_exists='append', index=False)\n",
      "c:\\Users\\oiwah\\OneDrive\\デスクトップ\\2025_Spring_Python\\lab4\\arshiya-hiroyuki-api\\load_functions.py:54: UserWarning: pandas only supports SQLAlchemy connectable (engine/connection) or database string URI or sqlite3 DBAPI2 connection. Other DBAPI2 objects are not tested. Please consider using SQLAlchemy.\n",
      "  updated_data.to_sql('cpi_table', con, if_exists='append', index=False)\n",
      "c:\\Users\\oiwah\\OneDrive\\デスクトップ\\2025_Spring_Python\\lab4\\arshiya-hiroyuki-api\\load_functions.py:54: UserWarning: pandas only supports SQLAlchemy connectable (engine/connection) or database string URI or sqlite3 DBAPI2 connection. Other DBAPI2 objects are not tested. Please consider using SQLAlchemy.\n",
      "  updated_data.to_sql('cpi_table', con, if_exists='append', index=False)\n",
      "c:\\Users\\oiwah\\OneDrive\\デスクトップ\\2025_Spring_Python\\lab4\\arshiya-hiroyuki-api\\load_functions.py:54: UserWarning: pandas only supports SQLAlchemy connectable (engine/connection) or database string URI or sqlite3 DBAPI2 connection. Other DBAPI2 objects are not tested. Please consider using SQLAlchemy.\n",
      "  updated_data.to_sql('cpi_table', con, if_exists='append', index=False)\n",
      "c:\\Users\\oiwah\\OneDrive\\デスクトップ\\2025_Spring_Python\\lab4\\arshiya-hiroyuki-api\\load_functions.py:54: UserWarning: pandas only supports SQLAlchemy connectable (engine/connection) or database string URI or sqlite3 DBAPI2 connection. Other DBAPI2 objects are not tested. Please consider using SQLAlchemy.\n",
      "  updated_data.to_sql('cpi_table', con, if_exists='append', index=False)\n",
      "c:\\Users\\oiwah\\OneDrive\\デスクトップ\\2025_Spring_Python\\lab4\\arshiya-hiroyuki-api\\load_functions.py:54: UserWarning: pandas only supports SQLAlchemy connectable (engine/connection) or database string URI or sqlite3 DBAPI2 connection. Other DBAPI2 objects are not tested. Please consider using SQLAlchemy.\n",
      "  updated_data.to_sql('cpi_table', con, if_exists='append', index=False)\n",
      "c:\\Users\\oiwah\\OneDrive\\デスクトップ\\2025_Spring_Python\\lab4\\arshiya-hiroyuki-api\\load_functions.py:54: UserWarning: pandas only supports SQLAlchemy connectable (engine/connection) or database string URI or sqlite3 DBAPI2 connection. Other DBAPI2 objects are not tested. Please consider using SQLAlchemy.\n",
      "  updated_data.to_sql('cpi_table', con, if_exists='append', index=False)\n",
      "c:\\Users\\oiwah\\OneDrive\\デスクトップ\\2025_Spring_Python\\lab4\\arshiya-hiroyuki-api\\load_functions.py:54: UserWarning: pandas only supports SQLAlchemy connectable (engine/connection) or database string URI or sqlite3 DBAPI2 connection. Other DBAPI2 objects are not tested. Please consider using SQLAlchemy.\n",
      "  updated_data.to_sql('cpi_table', con, if_exists='append', index=False)\n",
      "c:\\Users\\oiwah\\OneDrive\\デスクトップ\\2025_Spring_Python\\lab4\\arshiya-hiroyuki-api\\load_functions.py:54: UserWarning: pandas only supports SQLAlchemy connectable (engine/connection) or database string URI or sqlite3 DBAPI2 connection. Other DBAPI2 objects are not tested. Please consider using SQLAlchemy.\n",
      "  updated_data.to_sql('cpi_table', con, if_exists='append', index=False)\n",
      "c:\\Users\\oiwah\\OneDrive\\デスクトップ\\2025_Spring_Python\\lab4\\arshiya-hiroyuki-api\\load_functions.py:54: UserWarning: pandas only supports SQLAlchemy connectable (engine/connection) or database string URI or sqlite3 DBAPI2 connection. Other DBAPI2 objects are not tested. Please consider using SQLAlchemy.\n",
      "  updated_data.to_sql('cpi_table', con, if_exists='append', index=False)\n",
      "c:\\Users\\oiwah\\OneDrive\\デスクトップ\\2025_Spring_Python\\lab4\\arshiya-hiroyuki-api\\load_functions.py:54: UserWarning: pandas only supports SQLAlchemy connectable (engine/connection) or database string URI or sqlite3 DBAPI2 connection. Other DBAPI2 objects are not tested. Please consider using SQLAlchemy.\n",
      "  updated_data.to_sql('cpi_table', con, if_exists='append', index=False)\n",
      "c:\\Users\\oiwah\\OneDrive\\デスクトップ\\2025_Spring_Python\\lab4\\arshiya-hiroyuki-api\\load_functions.py:54: UserWarning: pandas only supports SQLAlchemy connectable (engine/connection) or database string URI or sqlite3 DBAPI2 connection. Other DBAPI2 objects are not tested. Please consider using SQLAlchemy.\n",
      "  updated_data.to_sql('cpi_table', con, if_exists='append', index=False)\n",
      "c:\\Users\\oiwah\\OneDrive\\デスクトップ\\2025_Spring_Python\\lab4\\arshiya-hiroyuki-api\\load_functions.py:54: UserWarning: pandas only supports SQLAlchemy connectable (engine/connection) or database string URI or sqlite3 DBAPI2 connection. Other DBAPI2 objects are not tested. Please consider using SQLAlchemy.\n",
      "  updated_data.to_sql('cpi_table', con, if_exists='append', index=False)\n",
      "c:\\Users\\oiwah\\OneDrive\\デスクトップ\\2025_Spring_Python\\lab4\\arshiya-hiroyuki-api\\load_functions.py:54: UserWarning: pandas only supports SQLAlchemy connectable (engine/connection) or database string URI or sqlite3 DBAPI2 connection. Other DBAPI2 objects are not tested. Please consider using SQLAlchemy.\n",
      "  updated_data.to_sql('cpi_table', con, if_exists='append', index=False)\n",
      "c:\\Users\\oiwah\\OneDrive\\デスクトップ\\2025_Spring_Python\\lab4\\arshiya-hiroyuki-api\\load_functions.py:54: UserWarning: pandas only supports SQLAlchemy connectable (engine/connection) or database string URI or sqlite3 DBAPI2 connection. Other DBAPI2 objects are not tested. Please consider using SQLAlchemy.\n",
      "  updated_data.to_sql('cpi_table', con, if_exists='append', index=False)\n",
      "c:\\Users\\oiwah\\OneDrive\\デスクトップ\\2025_Spring_Python\\lab4\\arshiya-hiroyuki-api\\load_functions.py:54: UserWarning: pandas only supports SQLAlchemy connectable (engine/connection) or database string URI or sqlite3 DBAPI2 connection. Other DBAPI2 objects are not tested. Please consider using SQLAlchemy.\n",
      "  updated_data.to_sql('cpi_table', con, if_exists='append', index=False)\n",
      "c:\\Users\\oiwah\\OneDrive\\デスクトップ\\2025_Spring_Python\\lab4\\arshiya-hiroyuki-api\\load_functions.py:54: UserWarning: pandas only supports SQLAlchemy connectable (engine/connection) or database string URI or sqlite3 DBAPI2 connection. Other DBAPI2 objects are not tested. Please consider using SQLAlchemy.\n",
      "  updated_data.to_sql('cpi_table', con, if_exists='append', index=False)\n"
     ]
    },
    {
     "name": "stdout",
     "output_type": "stream",
     "text": [
      "Total Execution Time of Incremental: 354.76 seconds\n"
     ]
    }
   ],
   "source": [
    "con_incremental = duckdb.connect('cpi_incremental.duckdb')\n",
    "con_incremental.execute('DROP TABLE IF EXISTS cpi_table')\n",
    "con_incremental.execute(\"\"\"\n",
    "    CREATE TABLE IF NOT EXISTS cpi_table (\n",
    "        DATE STRING,\n",
    "        CPI FLOAT\n",
    "    )\n",
    "\"\"\")\n",
    "\n",
    "print(f'Total Execution Time of Incremental: {measure_time(update_incremental, date_range, url, con_incremental):.2f} seconds')\n",
    "\n",
    "con_truncate.close()"
   ]
  },
  {
   "cell_type": "markdown",
   "metadata": {},
   "source": [
    "## Conclusion"
   ]
  },
  {
   "cell_type": "markdown",
   "metadata": {},
   "source": [
    "The processing times were shortest for append load (211.37 seconds), followed by incremental load (354.76 seconds), and longest for truncate and load (389.45 seconds). In terms of speed alone, append load is the fastest since it simply adds new data, while truncate and load is the slowest as it reuploads the entire dataset each time. Incremental load falls in between, as it updates only the differences.These results imply that processing times are proportional to the amount of data uploaded.\n",
    "\n",
    "From a data quality perspective, append load risks degrading accuracy because historical data is periodically updated, leading to inconsistencies. However, replacing the entire dataset every time is unnecessary—updating only the changes is sufficient. Balancing both data quality and processing speed, the most appropriate approach for handling CPI data is incremental load, as it efficiently maintains accuracy while keeping processing time manageable."
   ]
  }
 ],
 "metadata": {
  "kernelspec": {
   "display_name": "Python 3",
   "language": "python",
   "name": "python3"
  },
  "language_info": {
   "codemirror_mode": {
    "name": "ipython",
    "version": 3
   },
   "file_extension": ".py",
   "mimetype": "text/x-python",
   "name": "python",
   "nbconvert_exporter": "python",
   "pygments_lexer": "ipython3",
   "version": "3.12.0"
  }
 },
 "nbformat": 4,
 "nbformat_minor": 2
}
